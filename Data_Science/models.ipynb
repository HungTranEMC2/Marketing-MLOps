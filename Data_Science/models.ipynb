{
 "cells": [
  {
   "cell_type": "markdown",
   "metadata": {},
   "source": [
    "# Data Science \n",
    "This notebook apply different Machine Learning algorithms to learn and generate prediction data from the original dataset, help us to predict the future revenue from what we know from our customer information"
   ]
  },
  {
   "cell_type": "markdown",
   "metadata": {},
   "source": [
    "## Library "
   ]
  },
  {
   "cell_type": "code",
   "execution_count": 19,
   "metadata": {},
   "outputs": [],
   "source": [
    "import pandas as pd\n",
    "import numpy as np \n",
    "import os\n",
    "\n",
    "from sklearn.preprocessing import LabelEncoder\n",
    "from sklearn.model_selection import cross_val_score, train_test_split\n",
    "from sklearn.metrics import mean_squared_error\n",
    "from sklearn.metrics import mean_absolute_error as mea\n",
    "from sklearn.linear_model import LinearRegression\n",
    "from sklearn.ensemble import RandomForestRegressor\n",
    "\n",
    "from xgboost import XGBRegressor as XGBR\n",
    "\n",
    "import warnings \n",
    "#Ignore all warnings\n",
    "warnings.filterwarnings('ignore')\n"
   ]
  },
  {
   "cell_type": "code",
   "execution_count": 4,
   "metadata": {},
   "outputs": [],
   "source": [
    "#change to corrected the directory \n",
    "os.chdir('..')\n",
    "\n",
    "# Import the dataset\n",
    "data = pd.read_csv('./Data_Engineer/data/marketing.csv')\n",
    "data.drop(columns = ['Unnamed: 0'], inplace= True)"
   ]
  },
  {
   "cell_type": "code",
   "execution_count": 5,
   "metadata": {},
   "outputs": [
    {
     "data": {
      "text/html": [
       "<div>\n",
       "<style scoped>\n",
       "    .dataframe tbody tr th:only-of-type {\n",
       "        vertical-align: middle;\n",
       "    }\n",
       "\n",
       "    .dataframe tbody tr th {\n",
       "        vertical-align: top;\n",
       "    }\n",
       "\n",
       "    .dataframe thead th {\n",
       "        text-align: right;\n",
       "    }\n",
       "</style>\n",
       "<table border=\"1\" class=\"dataframe\">\n",
       "  <thead>\n",
       "    <tr style=\"text-align: right;\">\n",
       "      <th></th>\n",
       "      <th>gender</th>\n",
       "      <th>age</th>\n",
       "      <th>occupation numeric</th>\n",
       "      <th>city_category</th>\n",
       "      <th>stay_in_current_city_years</th>\n",
       "      <th>marital_status</th>\n",
       "      <th>product_category_1</th>\n",
       "      <th>product_category_2</th>\n",
       "      <th>product_category_3</th>\n",
       "      <th>purchase_amount</th>\n",
       "    </tr>\n",
       "  </thead>\n",
       "  <tbody>\n",
       "    <tr>\n",
       "      <th>0</th>\n",
       "      <td>F</td>\n",
       "      <td>0-17</td>\n",
       "      <td>10</td>\n",
       "      <td>A</td>\n",
       "      <td>2</td>\n",
       "      <td>0</td>\n",
       "      <td>1</td>\n",
       "      <td>6</td>\n",
       "      <td>14</td>\n",
       "      <td>15200</td>\n",
       "    </tr>\n",
       "    <tr>\n",
       "      <th>1</th>\n",
       "      <td>M</td>\n",
       "      <td>46-50</td>\n",
       "      <td>7</td>\n",
       "      <td>B</td>\n",
       "      <td>2</td>\n",
       "      <td>1</td>\n",
       "      <td>1</td>\n",
       "      <td>8</td>\n",
       "      <td>17</td>\n",
       "      <td>19215</td>\n",
       "    </tr>\n",
       "    <tr>\n",
       "      <th>2</th>\n",
       "      <td>M</td>\n",
       "      <td>26-35</td>\n",
       "      <td>20</td>\n",
       "      <td>A</td>\n",
       "      <td>1</td>\n",
       "      <td>1</td>\n",
       "      <td>1</td>\n",
       "      <td>2</td>\n",
       "      <td>5</td>\n",
       "      <td>15665</td>\n",
       "    </tr>\n",
       "    <tr>\n",
       "      <th>3</th>\n",
       "      <td>F</td>\n",
       "      <td>51-55</td>\n",
       "      <td>9</td>\n",
       "      <td>A</td>\n",
       "      <td>1</td>\n",
       "      <td>0</td>\n",
       "      <td>5</td>\n",
       "      <td>8</td>\n",
       "      <td>14</td>\n",
       "      <td>5378</td>\n",
       "    </tr>\n",
       "    <tr>\n",
       "      <th>4</th>\n",
       "      <td>F</td>\n",
       "      <td>51-55</td>\n",
       "      <td>9</td>\n",
       "      <td>A</td>\n",
       "      <td>1</td>\n",
       "      <td>0</td>\n",
       "      <td>2</td>\n",
       "      <td>3</td>\n",
       "      <td>4</td>\n",
       "      <td>13055</td>\n",
       "    </tr>\n",
       "  </tbody>\n",
       "</table>\n",
       "</div>"
      ],
      "text/plain": [
       "  gender    age  occupation numeric city_category stay_in_current_city_years  \\\n",
       "0      F   0-17                  10             A                          2   \n",
       "1      M  46-50                   7             B                          2   \n",
       "2      M  26-35                  20             A                          1   \n",
       "3      F  51-55                   9             A                          1   \n",
       "4      F  51-55                   9             A                          1   \n",
       "\n",
       "   marital_status  product_category_1  product_category_2  product_category_3  \\\n",
       "0               0                   1                   6                  14   \n",
       "1               1                   1                   8                  17   \n",
       "2               1                   1                   2                   5   \n",
       "3               0                   5                   8                  14   \n",
       "4               0                   2                   3                   4   \n",
       "\n",
       "   purchase_amount  \n",
       "0            15200  \n",
       "1            19215  \n",
       "2            15665  \n",
       "3             5378  \n",
       "4            13055  "
      ]
     },
     "execution_count": 5,
     "metadata": {},
     "output_type": "execute_result"
    }
   ],
   "source": [
    "data.head()"
   ]
  },
  {
   "cell_type": "code",
   "execution_count": 6,
   "metadata": {},
   "outputs": [
    {
     "data": {
      "text/plain": [
       "gender                        0\n",
       "age                           0\n",
       "occupation numeric            0\n",
       "city_category                 0\n",
       "stay_in_current_city_years    0\n",
       "marital_status                0\n",
       "product_category_1            0\n",
       "product_category_2            0\n",
       "product_category_3            0\n",
       "purchase_amount               0\n",
       "dtype: int64"
      ]
     },
     "execution_count": 6,
     "metadata": {},
     "output_type": "execute_result"
    }
   ],
   "source": [
    "#There is no missing Value in this dataset \n",
    "data.isnull().sum()"
   ]
  },
  {
   "cell_type": "markdown",
   "metadata": {},
   "source": [
    "Apply Label encoding for the categorical columns , turn them into numeric values"
   ]
  },
  {
   "cell_type": "code",
   "execution_count": 7,
   "metadata": {},
   "outputs": [],
   "source": [
    "#Apply label encoding the categorical columns \n",
    "cols = ['gender','age','city_category','stay_in_current_city_years']\n",
    "label = LabelEncoder()\n",
    "for col in cols:\n",
    "    data[col] = label.fit_transform(data[col])"
   ]
  },
  {
   "cell_type": "code",
   "execution_count": 8,
   "metadata": {},
   "outputs": [
    {
     "data": {
      "text/html": [
       "<div>\n",
       "<style scoped>\n",
       "    .dataframe tbody tr th:only-of-type {\n",
       "        vertical-align: middle;\n",
       "    }\n",
       "\n",
       "    .dataframe tbody tr th {\n",
       "        vertical-align: top;\n",
       "    }\n",
       "\n",
       "    .dataframe thead th {\n",
       "        text-align: right;\n",
       "    }\n",
       "</style>\n",
       "<table border=\"1\" class=\"dataframe\">\n",
       "  <thead>\n",
       "    <tr style=\"text-align: right;\">\n",
       "      <th></th>\n",
       "      <th>gender</th>\n",
       "      <th>age</th>\n",
       "      <th>occupation numeric</th>\n",
       "      <th>city_category</th>\n",
       "      <th>stay_in_current_city_years</th>\n",
       "      <th>marital_status</th>\n",
       "      <th>product_category_1</th>\n",
       "      <th>product_category_2</th>\n",
       "      <th>product_category_3</th>\n",
       "      <th>purchase_amount</th>\n",
       "    </tr>\n",
       "  </thead>\n",
       "  <tbody>\n",
       "    <tr>\n",
       "      <th>0</th>\n",
       "      <td>0</td>\n",
       "      <td>0</td>\n",
       "      <td>10</td>\n",
       "      <td>0</td>\n",
       "      <td>2</td>\n",
       "      <td>0</td>\n",
       "      <td>1</td>\n",
       "      <td>6</td>\n",
       "      <td>14</td>\n",
       "      <td>15200</td>\n",
       "    </tr>\n",
       "    <tr>\n",
       "      <th>1</th>\n",
       "      <td>1</td>\n",
       "      <td>4</td>\n",
       "      <td>7</td>\n",
       "      <td>1</td>\n",
       "      <td>2</td>\n",
       "      <td>1</td>\n",
       "      <td>1</td>\n",
       "      <td>8</td>\n",
       "      <td>17</td>\n",
       "      <td>19215</td>\n",
       "    </tr>\n",
       "    <tr>\n",
       "      <th>2</th>\n",
       "      <td>1</td>\n",
       "      <td>2</td>\n",
       "      <td>20</td>\n",
       "      <td>0</td>\n",
       "      <td>1</td>\n",
       "      <td>1</td>\n",
       "      <td>1</td>\n",
       "      <td>2</td>\n",
       "      <td>5</td>\n",
       "      <td>15665</td>\n",
       "    </tr>\n",
       "    <tr>\n",
       "      <th>3</th>\n",
       "      <td>0</td>\n",
       "      <td>5</td>\n",
       "      <td>9</td>\n",
       "      <td>0</td>\n",
       "      <td>1</td>\n",
       "      <td>0</td>\n",
       "      <td>5</td>\n",
       "      <td>8</td>\n",
       "      <td>14</td>\n",
       "      <td>5378</td>\n",
       "    </tr>\n",
       "    <tr>\n",
       "      <th>4</th>\n",
       "      <td>0</td>\n",
       "      <td>5</td>\n",
       "      <td>9</td>\n",
       "      <td>0</td>\n",
       "      <td>1</td>\n",
       "      <td>0</td>\n",
       "      <td>2</td>\n",
       "      <td>3</td>\n",
       "      <td>4</td>\n",
       "      <td>13055</td>\n",
       "    </tr>\n",
       "  </tbody>\n",
       "</table>\n",
       "</div>"
      ],
      "text/plain": [
       "   gender  age  occupation numeric  city_category  stay_in_current_city_years  \\\n",
       "0       0    0                  10              0                           2   \n",
       "1       1    4                   7              1                           2   \n",
       "2       1    2                  20              0                           1   \n",
       "3       0    5                   9              0                           1   \n",
       "4       0    5                   9              0                           1   \n",
       "\n",
       "   marital_status  product_category_1  product_category_2  product_category_3  \\\n",
       "0               0                   1                   6                  14   \n",
       "1               1                   1                   8                  17   \n",
       "2               1                   1                   2                   5   \n",
       "3               0                   5                   8                  14   \n",
       "4               0                   2                   3                   4   \n",
       "\n",
       "   purchase_amount  \n",
       "0            15200  \n",
       "1            19215  \n",
       "2            15665  \n",
       "3             5378  \n",
       "4            13055  "
      ]
     },
     "execution_count": 8,
     "metadata": {},
     "output_type": "execute_result"
    }
   ],
   "source": [
    "data.head()"
   ]
  },
  {
   "cell_type": "code",
   "execution_count": 9,
   "metadata": {},
   "outputs": [],
   "source": [
    "#Assign y = purchase_amount, because y is a targetd variable, the rest of the columns assign in X\n",
    "X = data.drop(columns =['purchase_amount'])\n",
    "y = data['purchase_amount']"
   ]
  },
  {
   "cell_type": "code",
   "execution_count": 10,
   "metadata": {},
   "outputs": [],
   "source": [
    "#Split the dataset into training and testing set \n",
    "X_train, X_test, y_train, y_test = train_test_split(X,y ,random_state= 42, test_size= 0.2)\n"
   ]
  },
  {
   "cell_type": "markdown",
   "metadata": {},
   "source": [
    "# Base Model\n",
    "\n",
    "We choose Linear Regression As base model, because it simplicity and easy to understand."
   ]
  },
  {
   "cell_type": "code",
   "execution_count": 26,
   "metadata": {},
   "outputs": [
    {
     "name": "stdout",
     "output_type": "stream",
     "text": [
      "Results\n",
      "RMSE 4641.144105485624\n",
      "CV Score:  4632.738083476819\n"
     ]
    }
   ],
   "source": [
    "\n",
    "base_model = LinearRegression()\n",
    "base_model.fit(X_train,y_train)\n",
    "base_model_prediction = base_model.predict(X_test)\n",
    "\n",
    "#Cross Validation \n",
    "cv_score = cross_val_score(base_model, X, y, scoring = 'neg_mean_squared_error', cv = 3)\n",
    "cv_score = np.abs(np.mean(cv_score))\n",
    "base_RMSE = np.sqrt(mean_squared_error(y_test,base_model_prediction))\n",
    "\n",
    "print('Results')\n",
    "print('RMSE', base_RMSE )\n",
    "print('CV Score: ', np.sqrt(cv_score))"
   ]
  },
  {
   "cell_type": "markdown",
   "metadata": {},
   "source": [
    "## XGBoost"
   ]
  },
  {
   "cell_type": "markdown",
   "metadata": {},
   "source": [
    "The Section below initiate the XGBoost model, we are predicting the continous value, so we use XGBoost Regression, instead of XGBoost Classification\n",
    "- n_estimator = 1000. This value specifies the number of boosting round or tree to be built in the model\n",
    "- learning_rate = 0.05. This parameter control the step size at each itation while moving towards a minimum of the loss function "
   ]
  },
  {
   "cell_type": "code",
   "execution_count": 28,
   "metadata": {},
   "outputs": [
    {
     "name": "stdout",
     "output_type": "stream",
     "text": [
      "XGB Results\n",
      "RMSE 3526.036886755855\n",
      "CV Score:  4632.738083476819\n"
     ]
    }
   ],
   "source": [
    "XGB_model = XGBR(n_estimator = 1000, learning_rate= 0.05)\n",
    "XGB_model.fit(X_train,y_train, eval_set = [(X_test,y_test)], verbose = False)\n",
    "XGB_prediction = XGB_model.predict(X_test)\n",
    "#Cross Validation \n",
    "cv_score_XGB = cross_val_score(XGB_model, X, y, scoring = 'neg_mean_squared_error', cv = 3)\n",
    "cv_score_XGB = np.abs(np.mean(cv_score))\n",
    "\n",
    "XGB_RMSE = np.sqrt(mean_squared_error(y_test,XGB_prediction))\n",
    "\n",
    "print('XGB Results')\n",
    "print('RMSE', XGB_RMSE)\n",
    "print('CV Score: ', np.sqrt(cv_score_XGB))"
   ]
  },
  {
   "cell_type": "markdown",
   "metadata": {},
   "source": [
    "# Random Forest \n",
    "The section below fit the Random forest machine learning model. Similar to XGBoost, random forest also an ensemble learning, which combine multiple decision trees. but random forest build trees independently and aggregates their result"
   ]
  },
  {
   "cell_type": "code",
   "execution_count": 23,
   "metadata": {},
   "outputs": [
    {
     "name": "stdout",
     "output_type": "stream",
     "text": [
      "Random Forest Result\n",
      "RMSE 3738.107628099742\n",
      "CV Score:  4632.738083476819\n"
     ]
    }
   ],
   "source": [
    "random_forest_model = RandomForestRegressor(n_jobs = 1)\n",
    "random_forest_model.fit(X_train,y_train)\n",
    "random_forest_prediction = random_forest_model.predict(X_test)\n",
    "#Cross Validation \n",
    "cv_score_random_forest = cross_val_score(random_forest_model, X, y, scoring = 'neg_mean_squared_error', cv = 3)\n",
    "cv_score_random_forest = np.abs(np.mean(cv_score))\n",
    "\n",
    "random_forest_RMSE = np.sqrt(mean_squared_error(y_test,random_forest_prediction))\n",
    "\n",
    "print('Random Forest Result')\n",
    "print('RMSE', random_forest_RMSE)\n",
    "print('CV Score: ', np.sqrt(cv_score_random_forest))"
   ]
  },
  {
   "cell_type": "code",
   "execution_count": 29,
   "metadata": {},
   "outputs": [
    {
     "name": "stdout",
     "output_type": "stream",
     "text": [
      "           Model   RMSE Score      CV Score\n",
      "0     Base Model  4641.144105  2.146226e+07\n",
      "1        XGBoost  3526.036887  2.146226e+07\n",
      "2  Random Forest  3738.107628  2.146226e+07\n"
     ]
    }
   ],
   "source": [
    "evaluation = {\n",
    "    'Model' : ['Base Model', 'XGBoost' , 'Random Forest'],\n",
    "    'RMSE Score': [base_RMSE, XGB_RMSE, random_forest_RMSE],\n",
    "    'CV Score': [cv_score, cv_score_XGB, cv_score_random_forest]\n",
    "}\n",
    "\n",
    "evaluation = pd.DataFrame(evaluation)\n",
    "print(evaluation)"
   ]
  },
  {
   "cell_type": "markdown",
   "metadata": {},
   "source": [
    "# we can see the XGBoost provide the lowest , so it can become the best model among 3"
   ]
  },
  {
   "cell_type": "code",
   "execution_count": 27,
   "metadata": {},
   "outputs": [],
   "source": [
    "output.to_csv(\"XGB_output.csv\")"
   ]
  },
  {
   "cell_type": "code",
   "execution_count": null,
   "metadata": {},
   "outputs": [],
   "source": []
  }
 ],
 "metadata": {
  "kernelspec": {
   "display_name": "venv",
   "language": "python",
   "name": "python3"
  },
  "language_info": {
   "codemirror_mode": {
    "name": "ipython",
    "version": 3
   },
   "file_extension": ".py",
   "mimetype": "text/x-python",
   "name": "python",
   "nbconvert_exporter": "python",
   "pygments_lexer": "ipython3",
   "version": "3.12.2"
  }
 },
 "nbformat": 4,
 "nbformat_minor": 2
}
